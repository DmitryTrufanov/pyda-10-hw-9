{
 "cells": [
  {
   "cell_type": "markdown",
   "metadata": {},
   "source": [
    "**Задание 1.**\n",
    " Напишите функцию, которая принимает на вход строку и проверяет является ли она валидным транспортным номером. Если да, то функция должна возвращать отдельно номер и регион."
   ]
  },
  {
   "cell_type": "code",
   "execution_count": 1,
   "metadata": {},
   "outputs": [],
   "source": [
    "import re"
   ]
  },
  {
   "cell_type": "code",
   "execution_count": 63,
   "metadata": {},
   "outputs": [
    {
     "name": "stdout",
     "output_type": "stream",
     "text": [
      "983-31 130-31 922-177\n"
     ]
    }
   ],
   "source": [
    "gos_number = 'о983ов31 B130TH31RUS о922сс177rus'\n",
    "regex_gos_number = r'([а,в,е,к,м,н,о,р,с,т,у,х,a,b,c,e,k,m,o,p,t,y,x,h]{1})(\\d{3})([а,в,е,к,м,н,о,р,с,т,у,х,a,c,e,k,m,o,p,t,y,x,h]{2})(\\d{2,3})(RUS|)'\n",
    "#regex_result = re.findall(regex_gos_number, gos_number)\n",
    "#print(re.sub(r'([а,в,е,к,м,н,о,р,с,т,у,х,a,b,c,e,k,m,o,p,t,y,x,h]{1})(\\d{3})([а,в,е,к,м,н,о,р,с,т,у,х,a,c,e,k,m,o,p,t,y,x,h]{2})(\\d{2,3})(RUS|)', r'\\2-\\4', gos_number, flags=re.IGNORECASE))\n",
    "print(re.sub(regex_gos_number, r'\\2-\\4', gos_number, flags=re.IGNORECASE))"
   ]
  },
  {
   "cell_type": "code",
   "execution_count": 73,
   "metadata": {},
   "outputs": [
    {
     "name": "stdout",
     "output_type": "stream",
     "text": [
      "неправильный номер\n"
     ]
    }
   ],
   "source": [
    "gos_number = 'о922сс177rus'\n",
    "regex_gos_number = r'([а,в,е,к,м,н,о,р,с,т,у,х,a,b,c,e,k,m,o,p,t,y,x,h]{1})(\\d{3})([а,в,е,к,м,н,о,р,с,т,у,х,a,c,e,k,m,o,p,t,y,x,h]{2})(\\d{2,3})(RUS|$)'\n",
    "if re.findall(regex_gos_number, gos_number):\n",
    "    print(re.sub(regex_gos_number, r'\\2-\\4', gos_number))\n",
    "else:\n",
    "    print('неправильный номер')\n"
   ]
  },
  {
   "cell_type": "code",
   "execution_count": 82,
   "metadata": {},
   "outputs": [
    {
     "name": "stdout",
     "output_type": "stream",
     "text": [
      "о922сс177rus\n"
     ]
    }
   ],
   "source": [
    "gos_number = 'о922сс177rus'\n",
    "regex_gos_number = r'([а,в,е,к,м,н,о,р,с,т,у,х]{1})(\\d{3})([а,в,е,к,м,н,о,р,с,т,у,х]{2})(\\d{2,3})(RUS|$)'\n",
    "if re.findall(regex_gos_number, gos_number, flags=re.IGNORECASE):\n",
    "    print(re.sub(regex_gos_number, r'\\2-\\4', gos_number))"
   ]
  }
 ],
 "metadata": {
  "kernelspec": {
   "display_name": "Python 3",
   "language": "python",
   "name": "python3"
  },
  "language_info": {
   "codemirror_mode": {
    "name": "ipython",
    "version": 3
   },
   "file_extension": ".py",
   "mimetype": "text/x-python",
   "name": "python",
   "nbconvert_exporter": "python",
   "pygments_lexer": "ipython3",
   "version": "3.7.6"
  }
 },
 "nbformat": 4,
 "nbformat_minor": 4
}
